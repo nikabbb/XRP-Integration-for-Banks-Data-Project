{
 "cells": [
  {
   "cell_type": "code",
   "execution_count": 1,
   "metadata": {},
   "outputs": [
    {
     "name": "stdout",
     "output_type": "stream",
     "text": [
      "              precision    recall  f1-score   support\n",
      "\n",
      "        True       1.00      1.00      1.00       200\n",
      "\n",
      "    accuracy                           1.00       200\n",
      "   macro avg       1.00      1.00      1.00       200\n",
      "weighted avg       1.00      1.00      1.00       200\n",
      "\n",
      "Model saved as xrp_outperforms_model.joblib\n"
     ]
    }
   ],
   "source": [
    "import pandas as pd\n",
    "from sklearn.model_selection import train_test_split\n",
    "from sklearn.ensemble import RandomForestClassifier\n",
    "from sklearn.metrics import classification_report\n",
    "from sklearn.preprocessing import OneHotEncoder\n",
    "from sklearn.compose import ColumnTransformer\n",
    "from sklearn.pipeline import Pipeline\n",
    "import joblib\n",
    "\n",
    "# Load data\n",
    "df = pd.read_parquet(\"transactions_comparison.parquet\")\n",
    "\n",
    "# Feature Engineering\n",
    "df['time_difference'] = df['swift_time'] - df['xrp_time']\n",
    "df['fee_difference'] = df['swift_fees'] - df['xrp_fees']\n",
    "\n",
    "# Prepare features and target\n",
    "features = ['amount', 'currency', 'source_country', 'destination_country', 'swift_time', 'swift_fees', 'xrp_time', 'xrp_fees']\n",
    "target = 'xrp_outperforms_swift'\n",
    "\n",
    "X = df[features]\n",
    "y = df[target]\n",
    "\n",
    "# One-hot encoding for categorical features\n",
    "categorical_features = ['currency', 'source_country', 'destination_country']\n",
    "numerical_features = ['amount', 'swift_time', 'swift_fees', 'xrp_time', 'xrp_fees']\n",
    "\n",
    "transformer = ColumnTransformer(transformers=[('onehot', OneHotEncoder(handle_unknown='ignore'), categorical_features)], remainder='passthrough')\n",
    "\n",
    "# Model pipeline\n",
    "model = Pipeline(steps=[('preprocessor', transformer), ('classifier', RandomForestClassifier(random_state=42))])\n",
    "\n",
    "# Train-test split\n",
    "X_train, X_test, y_train, y_test = train_test_split(X, y, test_size=0.2, random_state=42)\n",
    "\n",
    "# Train the model\n",
    "model.fit(X_train, y_train)\n",
    "\n",
    "# Evaluate the model\n",
    "y_pred = model.predict(X_test)\n",
    "print(classification_report(y_test, y_pred))\n",
    "\n",
    "# Save the model\n",
    "joblib.dump(model, 'xrp_outperforms_model.joblib')\n",
    "print(\"Model saved as xrp_outperforms_model.joblib\")"
   ]
  }
 ],
 "metadata": {
  "kernelspec": {
   "display_name": "base",
   "language": "python",
   "name": "python3"
  },
  "language_info": {
   "codemirror_mode": {
    "name": "ipython",
    "version": 3
   },
   "file_extension": ".py",
   "mimetype": "text/x-python",
   "name": "python",
   "nbconvert_exporter": "python",
   "pygments_lexer": "ipython3",
   "version": "3.12.7"
  }
 },
 "nbformat": 4,
 "nbformat_minor": 2
}
